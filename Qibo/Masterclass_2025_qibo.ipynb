{
 "cells": [
  {
   "cell_type": "markdown",
   "metadata": {},
   "source": [
    "<img align=\"center\" src=\"https://quantumspain-project.es/wp-content/uploads/2022/11/Logo_QS_EspanaDigital.png\" width=\"800px\"/>\n",
    "<figure>\n",
    "<a id='fig_ref'></a>\n",
    "<img src=\"./Images/Logo_TalentQ_Azul.png\" align=center width='200px'/>\n",
    "</figure>\n",
    "<br>\n",
    "<br>\n",
    "\n",
    "\n",
    "\n",
    "<table width=\"100%\"><td style=\" font_style:italic; font-size:50px;text-align:center;background-color:rgba(0, 220, 170,0.7)\">\n",
    "<div>\n",
    "Superposición, Paralelismo, Interferencia\n",
    "</div>\n",
    "</td></table>\n",
    "\n",
    "<figure>\n",
    "<img src=\"./Images/vectors.png\" align=center width='40%' style='margin:automatic'/>\n",
    "</figure>\n",
    "\n",
    "\n",
    "\n",
    "Abril 2025\n",
    "\n",
    "Autores:\n",
    "\n",
    "* Juan Santos (IGFAE-USC)\n",
    "* Irais Bautista (CESGA)\n",
    "* Javier Mas (IGFAE-USC)\n",
    "\n",
    "Traducción a Qibo\n",
    "* Carlos Luque (IAC)\n",
    "\n",
    "\n",
    "<a rel=\"license\" href=\"http://creativecommons.org/licenses/by-sa/4.0/\"><img aling=\"left\" alt=\"Licencia Creative Commons\" style=\"border-width:0\" src=\"https://i.creativecommons.org/l/by-sa/4.0/88x31.png\" /></a><br />Licencia: <a rel=\"license\" href=\"http://creativecommons.org/licenses/by-sa/4.0/\">Licencia Creative Commons Atribución-CompartirIgual 4.0 Internacional</a>.\n",
    "\n",
    "$ \\renewcommand{\\bra}[1]{\\langle #1|} $\n",
    "$ \\renewcommand{\\ket}[1]{|#1\\rangle} $\n",
    "$ \\renewcommand{\\braket}[2]{\\langle #1|#2\\rangle} $\n"
   ]
  },
  {
   "cell_type": "code",
   "execution_count": 175,
   "metadata": {},
   "outputs": [
    {
     "name": "stderr",
     "output_type": "stream",
     "text": [
      "[Qibo 0.2.16|INFO|2025-03-18 09:50:35]: Using numpy backend on /CPU:0\n"
     ]
    }
   ],
   "source": [
    "# Librerías generales\n",
    "import matplotlib.pyplot as plt\n",
    "import numpy as np\n",
    "\n",
    "import qibo\n",
    "from qibo import gates\n",
    "from qibo.models import Circuit\n",
    "\n",
    "#Uso de backend de numpy en Qibo\\n\",\n",
    "qibo.set_backend(\"numpy\")\n",
    "\n",
    "# Función de dibujado de circuito con matplotlib \n",
    "from qibo.ui import plot_circuit\n",
    "%matplotlib inline"
   ]
  },
  {
   "cell_type": "code",
   "execution_count": 176,
   "metadata": {},
   "outputs": [],
   "source": [
    "# definición de funciones de ayuda \n",
    "\n",
    "# función para mostrar circuit de un qubit \n",
    "miplot_circuit = lambda circuit: plot_circuit(circuit, cluster_gates=False)\n",
    "\n",
    "# función para mostrar el histrograma de un dictionario\n",
    "\n",
    "def plot_histogram (data_dict):\n",
    "    # Extract keys and values\n",
    "    x_values = list(data_dict.keys())   # estados cuanticos\n",
    "    y_values = list(data_dict.values()) # las cuentas\n",
    "\n",
    "    \n",
    "    plt.bar(x_values, y_values, edgecolor='black', alpha=0.7)\n",
    "\n",
    "    # Customize x-axis\n",
    "    plt.xticks(x_values)  # Solo mostrar los estados cuanticos\n",
    "\n",
    "    # Labels and title\n",
    "    plt.xlabel('Estados cuánticos')\n",
    "    plt.ylabel('Cuentas')\n",
    "    plt.title('Frecuencias')\n",
    "\n",
    "    # mostrar la gráfica\n",
    "    plt.show()"
   ]
  },
  {
   "cell_type": "markdown",
   "metadata": {},
   "source": [
    "En este cuaderno vamos a experimentar con dos recursos que ofrece la mecánica cuántica y que se utilizan para obtener ventaja computacional. \n",
    "\n",
    "- El **paralelismo**. Se deduce del *principio de superposición*. Éste afirma que un estado general de un sistema cuántico es una superposición lineal de todos los asociados a los posibles resultados que pueden aparecer  al medir. \n",
    "<br>\n",
    "\n",
    "- La **interferencia**. Los coeficientes de la superposición pueden anularse (interferencia destructiva)  en una secuencia de procesos sucesivos. "
   ]
  },
  {
   "cell_type": "markdown",
   "metadata": {},
   "source": [
    "#  Superposición\n",
    "\n",
    "<div class=\"alert alert-block alert-info\">\n",
    "\n",
    "- El estado de un **bit** sólo puede ser 0 ó 1. \n",
    "<br>\n",
    "    \n",
    "- El estado de un **cúbit** puede ser una <i>superposición</i> lineal $a \\ket{0} + b \\ket{1}$ con $|a|^2 + |b|^2 = 1$\n",
    "<br>\n",
    "    \n",
    "    - Los estados $\\ket{0}$ y $\\ket{1}$ forman una *base*\n",
    "    \n",
    "    - Los coficientes  $a$ y $b$ son  *amplitudes* de probabilidad. En general son números complejos.\n",
    "\n",
    "    - Los números reales y positivos $|a|^2$ y $|b|^2$ son las *probabilidades* de que, al medir, obtengamos 0 ó 1 y (el estado colapse a $\\ket{0}$ ó $\\ket{1}$).\n",
    "\n",
    "</div>\n"
   ]
  },
  {
   "cell_type": "markdown",
   "metadata": {},
   "source": [
    "## Circuito cuántico\n"
   ]
  },
  {
   "cell_type": "markdown",
   "metadata": {},
   "source": [
    "El estado <b>inicial</b> en un circuito cuántico es siempre $\\ket{\\psi} = \\ket{0}$, cuya medida dará siempre el valor cierto 0 \n",
    "    \n",
    "- A partir de él, podemos <b>preparar</b> un estado arbitrario aplicando puertas cuánticas\n",
    "    \n",
    "$$\n",
    "\\ket{0} ~~~\\stackrel{\\hbox{puertas}}{\\longrightarrow}~~~ \\ket{\\psi} = a \\ket{0} + b \\ket{1} ~~~~~\\hbox{con}~~ |a|^2 + |b|^2 = 1\n",
    "$$\n",
    "<br>\n",
    "\n",
    "- Cada vez que <b>medimos</b>, el estado colapsa a $\\ket{0}$ ó a $\\ket{1}$\n",
    "$$\n",
    "\\ket{\\psi} = a \\ket{0} + b \\ket{1} ~~~\\stackrel{\\hbox{medidas}}{\\longrightarrow}~~~\n",
    "\\left\\{ \\begin{array}{cc}\\hbox{mide} & \\hbox{sale} \\\\  0 & \\ket{0} \\\\   1 &   \\ket{1} \\end{array} \\right.\n",
    "$$\n",
    "<br>\n",
    "\n",
    "\n",
    "- Podemos tener acceso a $|a|$ y $|b|$ midiendo $N$ veces y hallando las <b>frecuencias relativas</b> con las que aparecen 0 y 1\n",
    "\n",
    "\n",
    "$$\n",
    "|a|^2 = \\frac{n(0)}{N} ~~~~~~,~~~~~~~ |b|^2 = \\frac{n(1)}{N}\n",
    "$$\n",
    "    \n",
    "    \n"
   ]
  },
  {
   "cell_type": "markdown",
   "metadata": {},
   "source": [
    "## Circuitos de 1 cúbit\n",
    "\n",
    "- La puerta $X$ es el análogo cuántico de la puerta clásica NOT\n",
    "\n",
    "$$\n",
    "X \\ket{0} = \\ket{1} ~~~~~~~~~~X \\ket{1} = \\ket{0}\n",
    "$$\n",
    "\n",
    "- La puerta $Z$ cambia el signo a $\\ket{1}$\n",
    "$$\n",
    "Z \\ket{0} = \\ket{0}~~~~~~~~~~Z\\ket{1} = -\\ket{1}~~~\n",
    "$$\n",
    "<br>\n",
    "No tiene análogo clásico, ya que no existe un bit que  tome el valor  -1\n",
    "<br>\n",
    "<br>\n",
    "\n",
    "- La puerta $H$ (o de *Hadamard*) crea un estado superposición\n",
    "<br>\n",
    "$$\n",
    "H \\ket{0} =\\frac{1}{\\sqrt{2}} \\big( \\ket{0} + \\ket{1}\\big) ~~~~~~~H\\ket{1} =\\frac{1}{\\sqrt{2}} \\big( \\ket{0} - \\ket{1}\\big)\n",
    "$$\n",
    "<br>\n",
    "que tampoco tiene análogo clásico\n"
   ]
  },
  {
   "cell_type": "code",
   "execution_count": 177,
   "metadata": {},
   "outputs": [
    {
     "data": {
      "text/plain": [
       "(<Axes: >, <Figure size 60x60 with 1 Axes>)"
      ]
     },
     "execution_count": 177,
     "metadata": {},
     "output_type": "execute_result"
    },
    {
     "data": {
      "image/png": "[encoded data removed]",
      "text/plain": [
       "<Figure size 60x60 with 1 Axes>"
      ]
     },
     "metadata": {},
     "output_type": "display_data"
    }
   ],
   "source": [
    "qbits = 1\n",
    "qc = Circuit(qbits)#\n",
    "qc.add(gates.M(*range(qbits)))\n",
    "\n",
    "Nejecucion = 1000\n",
    "# el diccionario de cuentas \n",
    "result = qc.execute(nshots=Nejecucion)\n",
    "\n",
    "plot_circuit(qc)"
   ]
  },
  {
   "cell_type": "markdown",
   "metadata": {},
   "source": [
    "Podemos analizar el resultado de **dos manera distintas**: \n",
    "\n",
    "- escribiendo el vector resultante en la base $\\ket{0}, \\ket{1}$"
   ]
  },
  {
   "cell_type": "code",
   "execution_count": 178,
   "metadata": {},
   "outputs": [
    {
     "name": "stdout",
     "output_type": "stream",
     "text": [
      "(1+0j)|0>\n"
     ]
    }
   ],
   "source": [
    "print(qc.final_state)"
   ]
  },
  {
   "cell_type": "markdown",
   "metadata": {},
   "source": [
    "- Efectuando medidas para visualizar las amplitudes"
   ]
  },
  {
   "cell_type": "code",
   "execution_count": 179,
   "metadata": {},
   "outputs": [
    {
     "name": "stdout",
     "output_type": "stream",
     "text": [
      "Medidas:  Counter({'0': 1000})\n"
     ]
    }
   ],
   "source": [
    "medidas = result.frequencies()\n",
    "print(\"Medidas: \", medidas)"
   ]
  },
  {
   "cell_type": "code",
   "execution_count": 180,
   "metadata": {},
   "outputs": [
    {
     "data": {
      "image/png": "[encoded data removed]",
      "text/plain": [
       "<Figure size 640x480 with 1 Axes>"
      ]
     },
     "metadata": {},
     "output_type": "display_data"
    }
   ],
   "source": [
    "plot_histogram(result.frequencies())"
   ]
  },
  {
   "cell_type": "markdown",
   "metadata": {},
   "source": [
    "vamos a recuperar los valores de las probabilidades\n",
    "\n",
    "$$p(0) = |a|^2 = \\frac{n(0)}{N} ~~~~~~~\\hbox{y} ~~~~~~~~~ p(1) = |b|^2 = \\frac{n(1)}{N}$$"
   ]
  },
  {
   "cell_type": "code",
   "execution_count": 181,
   "metadata": {},
   "outputs": [
    {
     "name": "stdout",
     "output_type": "stream",
     "text": [
      "probabilidades:  [1. 0.]\n"
     ]
    }
   ],
   "source": [
    "# esta función nos devuelve las probabilidades de cada estado\n",
    "\n",
    "probabilidades = result.probabilities()\n",
    "print(\"probabilidades: \", probabilidades)"
   ]
  },
  {
   "cell_type": "markdown",
   "metadata": {},
   "source": [
    "<div class=\"alert alert-block alert-success\">\n",
    "<b>¡A jugar!</b>:   \n",
    "Modifica el circuito y observa los estados que se obtienen. Observa las frecuencias relativa y recupera los valores de $|a|^2$ y $|b|^2$    \n",
    "</div>"
   ]
  },
  {
   "cell_type": "markdown",
   "metadata": {},
   "source": [
    "\n",
    "## Circuitos de varios cúbits \n",
    "\n",
    "- Pensemos en 2 cúbits, cada uno de los cuales está en un estado arbitrario. El estado **conjunto** se escribe así *(producto tensorial)*\n",
    "<br>\n",
    "$$\n",
    "\\big(a_1 \\ket{0} + b_1\\ket{1}\\big)\\otimes \\big( a_2\\ket{0} + b_2\\ket{1}\\big) = \n",
    "a_1a_2 \\ket{00} + a_1 b_2 \\ket{01} + a_2 b_1 \\ket{10} + a_2 b_2 \\ket{11}\n",
    "$$\n",
    "<br>\n",
    "\n",
    "Decimos que los estados $\\{ \\ket{00},\\ket{01},\\ket{10},\\ket{11} \\}$ forman una base del espacio de dos cúbits.\n",
    "<br>\n",
    "<br>\n",
    "\n",
    "- Al medir ambos cúbits,   \n",
    "$$\n",
    "\\begin{array}{ccc}\n",
    "\\hbox{obtendremos resultados} & \\hbox{con probabilidad} & \\hbox{y el estado colapsa a} \\\\\n",
    "00 & |a_1a_2|^2 & \\ket{00} \\\\\n",
    "01 & |a_1b_2|^2 & \\ket{01}\\\\\n",
    "10 & |b_2a_1|^2 & \\ket{10}\\\\\n",
    "11 & |b_2b_2|^2 & \\ket{11}\\\\\n",
    "\\end{array}\n",
    "$$\n",
    "<br>\n",
    "\n",
    "\n",
    "<div class=\"alert alert-block alert-warning\">\n",
    "<i>Puedes probar fácilmente que la suma de todos estos números es igual a 1. Es decir, son probabilidades.</i>\n",
    "</div>"
   ]
  },
  {
   "cell_type": "markdown",
   "metadata": {},
   "source": [
    "Vamos a generar estados posibles mediante puertas de 1 cúbit insertadas en cada registro del circuito"
   ]
  },
  {
   "cell_type": "code",
   "execution_count": 182,
   "metadata": {},
   "outputs": [
    {
     "data": {
      "text/plain": [
       "(<Axes: >, <Figure size 180x120 with 1 Axes>)"
      ]
     },
     "execution_count": 182,
     "metadata": {},
     "output_type": "execute_result"
    },
    {
     "data": {
      "image/png": "[encoded data removed]",
      "text/plain": [
       "<Figure size 180x120 with 1 Axes>"
      ]
     },
     "metadata": {},
     "output_type": "display_data"
    }
   ],
   "source": [
    "qbits = 2\n",
    "qc2 = Circuit(qbits)#\n",
    "qc2.add(gates.X(0))\n",
    "qc2.add(gates.H(0))\n",
    "qc2.add(gates.H(1))\n",
    "\n",
    "qc2.add(gates.M(*range(qbits)))\n",
    "\n",
    "Nejecucion = 1000\n",
    "# el diccionario de cuentas \n",
    "result2 = qc2.execute(nshots=Nejecucion)\n",
    "\n",
    "plot_circuit(qc2)"
   ]
  },
  {
   "cell_type": "markdown",
   "metadata": {},
   "source": [
    "Escribimos el estado resultante en la *base de estados*"
   ]
  },
  {
   "cell_type": "code",
   "execution_count": 183,
   "metadata": {},
   "outputs": [
    {
     "name": "stdout",
     "output_type": "stream",
     "text": [
      "(0.5+0j)|00> + (0.5+0j)|01> + (-0.5+0j)|10> + (-0.5+0j)|11>\n"
     ]
    }
   ],
   "source": [
    "print(qc2.final_state)"
   ]
  },
  {
   "cell_type": "markdown",
   "metadata": {},
   "source": [
    "Finalmente, obtenemos acceso a las probabilidades de cada suceso haciendo medidas"
   ]
  },
  {
   "cell_type": "markdown",
   "metadata": {},
   "source": [
    "De aquí deducimos la *estadística de las medidas*\n"
   ]
  },
  {
   "cell_type": "code",
   "execution_count": 184,
   "metadata": {},
   "outputs": [
    {
     "name": "stdout",
     "output_type": "stream",
     "text": [
      "Medidas=  Counter({'00': 257, '01': 255, '11': 253, '10': 235})\n"
     ]
    },
    {
     "data": {
      "image/png": "[encoded data removed]",
      "text/plain": [
       "<Figure size 640x480 with 1 Axes>"
      ]
     },
     "metadata": {},
     "output_type": "display_data"
    }
   ],
   "source": [
    "medidas = result2.frequencies()\n",
    "print(\"Medidas= \", medidas)\n",
    "\n",
    "# graficamos en un histograma\n",
    "plot_histogram(medidas)"
   ]
  },
  {
   "cell_type": "markdown",
   "metadata": {},
   "source": [
    "Escribimos las probabilidades"
   ]
  },
  {
   "cell_type": "code",
   "execution_count": 185,
   "metadata": {},
   "outputs": [
    {
     "name": "stdout",
     "output_type": "stream",
     "text": [
      "probabilidades:  [0.25 0.25 0.25 0.25]\n"
     ]
    }
   ],
   "source": [
    "probabilidades = result2.probabilities()\n",
    "print(\"probabilidades: \", probabilidades)"
   ]
  },
  {
   "cell_type": "markdown",
   "metadata": {},
   "source": [
    "<div class=\"alert alert-block alert-success\">\n",
    "<b>Juega:</b> modifica el circuito cambiando las puertas y obtén las probabilidades de medidas \n",
    "</div>"
   ]
  },
  {
   "cell_type": "markdown",
   "metadata": {},
   "source": [
    "# Paralelismo"
   ]
  },
  {
   "cell_type": "markdown",
   "metadata": {},
   "source": [
    "En la sección anterior hemos puesto $n=2$. Ahora podemos volver y aumentar este valor a voluntad. \n",
    "\n",
    "A continuación nos vamos a fijar en un circuito concreto, en el que aplicamos la puerta $H$ a cada uno de los cúbits en el estado $\\ket{0}$"
   ]
  },
  {
   "cell_type": "code",
   "execution_count": 186,
   "metadata": {},
   "outputs": [
    {
     "data": {
      "text/plain": [
       "(<Axes: >, <Figure size 60x180 with 1 Axes>)"
      ]
     },
     "execution_count": 186,
     "metadata": {},
     "output_type": "execute_result"
    },
    {
     "data": {
      "image/png": "[encoded data removed]",
      "text/plain": [
       "<Figure size 60x180 with 1 Axes>"
      ]
     },
     "metadata": {},
     "output_type": "display_data"
    }
   ],
   "source": [
    "\n",
    "qbits = 3\n",
    "qc3 = Circuit(qbits)\n",
    "\n",
    "for i in range(qbits):\n",
    "    qc3.add(gates.H(i))\n",
    "\n",
    "\n",
    "plot_circuit(qc3)"
   ]
  },
  {
   "cell_type": "markdown",
   "metadata": {},
   "source": [
    "<div class=\"alert alert-block alert-success\">\n",
    "<b>Ejercicio:</b> Obten el vector de estado que sale tanto en su representación algebráica\n",
    "</div>"
   ]
  },
  {
   "cell_type": "code",
   "execution_count": 187,
   "metadata": {},
   "outputs": [],
   "source": [
    "# Aquí tu solución como representación en la base \n",
    "#\n",
    "qc3.add(gates.M(*range(qbits)))\n",
    "\n",
    "Nejecucion = 1000\n",
    "# el diccionario de cuentas \n",
    "result3 = qc3.execute(nshots=Nejecucion)\n",
    "#######"
   ]
  },
  {
   "cell_type": "markdown",
   "metadata": {},
   "source": [
    "<div class=\"alert alert-block alert-success\">\n",
    "<b>Ejercicio:</b> añade medidores y obtén la estadística asociada a este estado\n",
    "</div>"
   ]
  },
  {
   "cell_type": "code",
   "execution_count": 188,
   "metadata": {},
   "outputs": [
    {
     "name": "stdout",
     "output_type": "stream",
     "text": [
      "Medidas=  Counter({'111': 143, '010': 137, '000': 133, '001': 128, '101': 123, '100': 122, '110': 115, '011': 99})\n"
     ]
    },
    {
     "data": {
      "image/png": "[encoded data removed]",
      "text/plain": [
       "<Figure size 640x480 with 1 Axes>"
      ]
     },
     "metadata": {},
     "output_type": "display_data"
    }
   ],
   "source": [
    "# Aquí tu solución como representación sobre las esferas de Bloch\n",
    "#\n",
    "medidas = result3.frequencies()\n",
    "print(\"Medidas= \", medidas)\n",
    "\n",
    "# graficamos en un histograma\n",
    "plot_histogram(medidas)\n",
    "#"
   ]
  },
  {
   "cell_type": "markdown",
   "metadata": {},
   "source": [
    "<div class=\"alert alert-block alert-success\">\n",
    "<b>Ejercicio:</b> repite las celdas anteriores, subiendo el valor de $n$.\n",
    "</div>"
   ]
  },
  {
   "cell_type": "markdown",
   "metadata": {},
   "source": [
    "En un **computador clásico**, la operación anterior requeriría \n",
    "\n",
    "-   disponer de $2^n$ registros de memoria vacíos. Uno de ellos, el $00...0$ en valor 1 y los demás todos en 0.\n",
    "\n",
    "-  modificar *uno* a *uno* todos estos registros hasta poner todos ellos a valer 1 .\n",
    "\n",
    "En un **computador cuántico** los dos requisitos son soslayados \n",
    "\n",
    "- el estado de $n$ cúbits *alberga* automáticamente $2^n$ amplitudes no nulas  \n",
    "\n",
    "- el proceso de cambiar todas las $2^n$ amplitudes se realiza simultáneamente (paralelismo cuántico)."
   ]
  },
  {
   "cell_type": "markdown",
   "metadata": {},
   "source": [
    "<div class=\"alert alert-block alert-warning\">\n",
    "<b> Notación </b>  \n",
    "<br>\n",
    "\n",
    "Un número entero $x$ lo expresaremos de forma indistinta como un número decimal $x \\in \\mathbb{N}$, o como una n-tupla $ x \\in \\{ 0,1\\}^n$ que se obtiene completando con 0's el número $x$ escrito en base 2\n",
    "\n",
    "*Ejemplo*: con $n=4$, podemos escribir de forma indistinta $x = 7$ ó $x = 0111$. De este modo el vector $\\ket{0111} $   de la base de $n=4$ cúbits puede respresentarse como $\\ket{7}$.  \n",
    "</div>"
   ]
  },
  {
   "cell_type": "code",
   "execution_count": 189,
   "metadata": {},
   "outputs": [
    {
     "name": "stdout",
     "output_type": "stream",
     "text": [
      " |0111 > = |7 >\n"
     ]
    }
   ],
   "source": [
    "n=4\n",
    "x=7\n",
    "xn = format(x, '0' + str(n) + 'b')\n",
    "\n",
    "print(' |' + xn + ' > = |' + str(x) + ' >')"
   ]
  },
  {
   "cell_type": "markdown",
   "metadata": {},
   "source": [
    "<div class=\"alert alert-block alert-success\">\n",
    "<b>Ejercicio:</b> Escribe el resultado que hallaste antes en notación decimal\n",
    "\n",
    "$$\n",
    "H^n \\ket{0}_n \\to H\\ket{0} ..... H\\ket{0} =~ ?\n",
    "$$\n",
    "</div>"
   ]
  },
  {
   "cell_type": "markdown",
   "metadata": {},
   "source": [
    "# Interferencia\n",
    "\n",
    "<div class=\"alert alert-block alert-info\">\n",
    "\n",
    "Las <b>probabilidades</b> $|a|^2$ y $|b|^2$ son siempre números positivos. Por tanto, es **imposible** que una suma de probabilidades se anule.\n",
    "\n",
    "Las **amplitudes de probabilidad**, $a$ y $b$ son números reales, o incluso complejos. Por tanto, es **posible** conseguir que un resultado tenga  tenga una probabilidad nula, $a + b = 0$, a pesar de que todas las amplitudes que contribuyen no sean nulas. Este es el fenómeno de la interferencia. \n",
    "</div>\n",
    "\n",
    "\n",
    "\n",
    "\n"
   ]
  },
  {
   "cell_type": "markdown",
   "metadata": {},
   "source": [
    "## La moneda cuántica\n",
    "\n",
    "Un cúbit es un análogo cuántico de una moneda. Cuando lo medimos, el resultado es siempre $\\ket{0} \\sim \\hbox{Cara}$, ó bien $\\ket{1} \\sim \\hbox{Cruz}$. \n",
    "\n",
    "Vamos a comprobar, experimentalmente, que <b>actuar con la puerta $H$</b>  es el <i>análogo cuántico</i> de  <b>tirar la moneda al aire</b>\n",
    "\n",
    "\n"
   ]
  },
  {
   "cell_type": "markdown",
   "metadata": {},
   "source": [
    "Basta con comproba que, al medir, la probabilidad de cada resultado 0 ó 1, tiende a $1/2$ al igual que en el caso de una moneda. "
   ]
  },
  {
   "cell_type": "markdown",
   "metadata": {},
   "source": [
    "El siguiente circuito efectúa $N$ tiradas y  medidas de una moneda cuántica incialmente en el estado $\\ket{0}$"
   ]
  },
  {
   "cell_type": "code",
   "execution_count": 190,
   "metadata": {},
   "outputs": [
    {
     "name": "stdout",
     "output_type": "stream",
     "text": [
      "Medidas=  Counter({'0': 510, '1': 490})\n"
     ]
    },
    {
     "data": {
      "image/png": "[encoded data removed]",
      "text/plain": [
       "<Figure size 120x60 with 1 Axes>"
      ]
     },
     "metadata": {},
     "output_type": "display_data"
    }
   ],
   "source": [
    "qbits = 1\n",
    "qc4 = Circuit(qbits)#\n",
    "\n",
    "# descomenta estas líneas si quieres tirar una moneda cuántica desde el estado |1>\n",
    "# qc4.add(gates.X(0))\n",
    "#qc.barrier()\n",
    "\n",
    "qc4.add(gates.H(0))\n",
    "qc4.add(gates.M(*range(qbits)))\n",
    "\n",
    "plot_circuit(qc4)\n",
    "\n",
    "\n",
    "Nejecucion = 1000\n",
    "# el diccionario de cuentas \n",
    "result4 = qc4.execute(nshots=Nejecucion)\n",
    "medidas4 = result4.frequencies()\n",
    "print(\"Medidas= \", medidas4)\n"
   ]
  },
  {
   "cell_type": "code",
   "execution_count": 191,
   "metadata": {},
   "outputs": [
    {
     "data": {
      "image/png": "[encoded data removed]",
      "text/plain": [
       "<Figure size 640x480 with 1 Axes>"
      ]
     },
     "metadata": {},
     "output_type": "display_data"
    }
   ],
   "source": [
    "\n",
    "# graficamos en un histograma\n",
    "plot_histogram(medidas4)"
   ]
  },
  {
   "cell_type": "markdown",
   "metadata": {},
   "source": [
    "Vamos a estudiar el análogo cuántico de tirar dos veces seguidas **observando el resultado después de cada tirada** "
   ]
  },
  {
   "cell_type": "code",
   "execution_count": 192,
   "metadata": {},
   "outputs": [
    {
     "name": "stdout",
     "output_type": "stream",
     "text": [
      "0: ─H─M─H─M─\n",
      "None\n",
      "Medidas=  Counter({'1': 52, '0': 48})\n"
     ]
    },
    {
     "data": {
      "image/png": "[encoded data removed]",
      "text/plain": [
       "<Figure size 240x60 with 1 Axes>"
      ]
     },
     "metadata": {},
     "output_type": "display_data"
    }
   ],
   "source": [
    "# Programa un circuito que efectúe dos tiradas y medidas sucesivas. \n",
    "\n",
    "qbits = 1\n",
    "qc5 = Circuit(qbits)\n",
    "\n",
    "\n",
    "#------\n",
    "# aquí tu solución\n",
    "\n",
    "\n",
    "\n",
    "\n",
    "#-------\n",
    "# Solución\n",
    "\n",
    "\n",
    "qc5.add(gates.H(0))\n",
    "qc5.add(gates.M(*range(qbits)))\n",
    "qc5.add(gates.H(0))\n",
    "qc5.add(gates.M(*range(qbits)))\n",
    "\n",
    "miplot_circuit(qc5)  # tiene un error en dos o más medidas()\n",
    "print(qc5.draw())\n",
    "\n",
    "Nejecucion = 100\n",
    "# el diccionario de cuentas \n",
    "result5 = qc5.execute(nshots=Nejecucion)\n",
    "\n",
    "medidas5 = result5.frequencies()\n",
    "print(\"Medidas= \", medidas5)\n"
   ]
  },
  {
   "cell_type": "code",
   "execution_count": 193,
   "metadata": {},
   "outputs": [
    {
     "data": {
      "image/png": "[encoded data removed]",
      "text/plain": [
       "<Figure size 640x480 with 1 Axes>"
      ]
     },
     "metadata": {},
     "output_type": "display_data"
    }
   ],
   "source": [
    "# graficamos en un histograma\n",
    "plot_histogram(medidas5)"
   ]
  },
  {
   "cell_type": "markdown",
   "metadata": {},
   "source": [
    "Es un resultado esperable porque cualquier estado inicial $\\ket{0}$ ó $\\ket{1}$ conducen a la misma probabilidad final $1/2$  de encontrar 0 y 1."
   ]
  },
  {
   "cell_type": "markdown",
   "metadata": {},
   "source": [
    "¿Qué esperamos que pase con una moneda, si efectuamos dos tiradas sucesivas, pero **no miramos entre cada tirada**?"
   ]
  },
  {
   "cell_type": "code",
   "execution_count": 194,
   "metadata": {},
   "outputs": [
    {
     "name": "stdout",
     "output_type": "stream",
     "text": [
      "0: ─H─H─M─\n",
      "None\n",
      "Medidas=  Counter({'0': 100})\n"
     ]
    },
    {
     "data": {
      "image/png": "[encoded data removed]",
      "text/plain": [
       "<Figure size 180x60 with 1 Axes>"
      ]
     },
     "metadata": {},
     "output_type": "display_data"
    }
   ],
   "source": [
    "# Programa un circuito que efectúe dos tiradas sucesivas y una sola medida después\n",
    "\n",
    "qbits = 1\n",
    "qc6 = Circuit(qbits)\n",
    "#------\n",
    "# aquí tu solución\n",
    "\n",
    "\n",
    "#-------\n",
    "# Solución\n",
    "\n",
    "qc6.add(gates.H(0))\n",
    "qc6.add(gates.H(0))\n",
    "qc6.add(gates.M(*range(qbits)))\n",
    "\n",
    "miplot_circuit(qc6)  # tiene un error en dos o más medidas()\n",
    "print(qc6.draw())\n",
    "\n",
    "\n",
    "Nejecucion = 100\n",
    "# el diccionario de cuentas \n",
    "result6 = qc6.execute(nshots=Nejecucion)\n",
    "\n",
    "medidas6 = result6.frequencies()\n",
    "print(\"Medidas= \", medidas6)\n"
   ]
  },
  {
   "cell_type": "markdown",
   "metadata": {},
   "source": [
    "<div class=\"alert alert-block alert-danger\">\n",
    "    <b>¡ ha desaparecido la posibilidad de hallar un resultado distinto al inicial ! </b>\n",
    "<br>    \n",
    "    \n",
    "- Si empezamos en $\\ket{0}$ (cara)  siempre obtendremos $0$  (cara)\n",
    "    \n",
    "- Si empezamos en $\\ket{1}$ (cruz) siempre obtendremos $1$ (cruz)\n",
    "    \n",
    "Es decir, hay un resultado que tiene probabilidad nula de aparecer al tirar dos veces, a pesar de que no tiene probabilidad nula en la primera tirada.     \n",
    "    \n",
    "</div>"
   ]
  },
  {
   "cell_type": "markdown",
   "metadata": {},
   "source": [
    "<div class=\"alert alert-block alert-success\">\n",
    "<b>Sugerencias para jugar:</b> analiza qué pasa cuando tiras más veces antes de medir. ¿Ves algún patrón?\n",
    "</div>"
   ]
  },
  {
   "cell_type": "markdown",
   "metadata": {},
   "source": [
    "## Explicación teórica de la moneda cuántica\n",
    "\n",
    "\n",
    "Si inicialmente la moneda se encuentra en $\\ket{0}$ (cara), *tirarla al aire* significa aplicar $H$\n",
    "\n",
    "\\begin{align}\n",
    "H : \\ket{0}  &\\to    \\frac{1}{\\sqrt{2}}|0\\rangle + \\frac{1}{\\sqrt{2}}|1\\rangle   \n",
    "\\end{align}\n",
    "\n",
    "En este estado, las probabilidades de colapsar a  $\\ket{0}$ (cara) ó a $\\ket{1}$ (cruz) al medir vienen dadas por \n",
    "\n",
    "\n",
    "$$\n",
    "p(0) = \\left\\vert  +\\frac{1}{\\sqrt{2}}\\right\\vert^2 = 0.5~~~~,~~~~ p(1) = \\left\\vert  +\\frac{1}{\\sqrt{2}}\\right\\vert^2 = 0.5\n",
    "$$\n",
    "\n",
    "Idénticamente, si tiramos una moneda cuántica que se encuentra inicialmente en $\\ket{1}$ (cruz)\n",
    "\n",
    "\\begin{align}\n",
    "H : \\ket{1}  &\\to    \\frac{1}{\\sqrt{2}}|0\\rangle - \\frac{1}{\\sqrt{2}}|1\\rangle   \n",
    "\\end{align}\n",
    "\n",
    "las probabilidades de obtener 0 ó 1   son las mismas\n",
    "\n",
    "$$\n",
    "p(0) = \\left\\vert  +\\frac{1}{\\sqrt{2}}\\right\\vert^2 = 0.5~~~~,~~~~ p(1) = \\left\\vert  -\\frac{1}{\\sqrt{2}}\\right\\vert^2 = 0.5\n",
    "$$\n",
    "\n",
    "\n",
    "Hasta aquí, igual que con una moneda clásica, ambas condiciones iniciales conducen a idénticas estadísticas. \n",
    "\n",
    "\n",
    "Ahora bien, si realizamos **dos tiradas seguidas sin medir** entre ambas, obtendremos lo siguiente\n",
    "\n",
    "\\begin{align}\n",
    "\\ket{0}~~\\stackrel{\\hbox{dos tiradas}}{\\longrightarrow}~~ H^2\\ket{0}  ~~ = ~~ H\\frac{1}{\\sqrt{2}}\\Big(|0\\rangle + |1\\rangle \\Big)  =  \\frac{1}{\\sqrt{2}}\\Big(H|0\\rangle + H|1\\rangle \\Big) ~~ = & ~~~\n",
    " \\frac{1}{\\sqrt{2}}\n",
    "\\left( \\frac{1}{\\sqrt{2}}\\big(|0\\rangle + |1\\rangle \\big) + \\frac{1}{\\sqrt{2}}\\big(|0\\rangle - |1\\rangle \\big) \\right) \\\\\n",
    "& =\\left( \\frac{1}{2}+\\frac{1}{2}\\right) \\ket{0} + \\left( \\frac{1}{2}-\\frac{1}{2}\\right) \\ket{1} \\rule{0mm}{8mm}\\\\\n",
    "& = \\ket{0}  \\rule{0mm}{8mm}\n",
    "\\end{align} \n",
    "\n",
    "Observamos nítidamente que ahora, al sumarse amplitudes en lugar de probabilidades, podemos tener una interferencia  \n",
    "\n",
    "- *constructiva*   para obtener el resultado $\\ket{0}$ con *probabilidad máxima*\n",
    "<br>\n",
    "\n",
    "- *destructiva* para obtener el resultado $\\ket{1}$ con *probabilidad nula*\n",
    "\n",
    "Idénticamente, si comenzamos con el estado $\\ket{1}$ (cruz) en la moneda cuántica, a la segunda tirada obtendremos el mismo estado con certeza\n",
    "\n",
    "\\begin{align}\n",
    "\\ket{1} ~~\\stackrel{\\hbox{dos tiradas}}{\\longrightarrow} ~~H^2\\ket{1}  ~~ =  ~~ H\\frac{1}{\\sqrt{2}}\\Big(|0\\rangle - |1\\rangle \\Big)  =  \\frac{1}{\\sqrt{2}}\\Big(H|0\\rangle - H|1\\rangle \\Big) ~~ = & ~~~\n",
    " \\frac{1}{\\sqrt{2}}\n",
    "\\left( \\frac{1}{\\sqrt{2}}\\big(|0\\rangle + |1\\rangle \\big) - \\frac{1}{\\sqrt{2}}\\big(|0\\rangle - |1\\rangle \\big) \\right) \\\\\n",
    "& =\\left( \\frac{1}{2}-\\frac{1}{2}\\right) \\ket{0} + \\left( \\frac{1}{2}+\\frac{1}{2}\\right) \\ket{1} \\rule{0mm}{8mm}\\\\\n",
    "& = \\ket{1}  \\rule{0mm}{8mm}\n",
    "\\end{align} \n",
    "\n",
    "\n"
   ]
  },
  {
   "cell_type": "markdown",
   "metadata": {},
   "source": [
    "## El algoritmo de Bernstein-Vazirani"
   ]
  },
  {
   "cell_type": "markdown",
   "metadata": {},
   "source": [
    "Sea $n\\in {\\mathbb N}$ un entero natural, y  $a,x$ números enteros positivos $\\in (0, 2^n-1)$.\n",
    "\n",
    "\n",
    "Imaginemos una *colección de $2^n$ funciones* \n",
    "\n",
    "$$\\fbox{$f_a: x \\to \\{0,1\\}$}$$ \n",
    "\n",
    "etiquetadas, cada una, por un número entero $a$. La función $f_a(x)$ actúa de la siguiente manera \n",
    "\n",
    "$$\n",
    "\\fbox{$f_a(x) = a\\cdot x ~\\equiv~ (a_{n-1} x_{n-1}    ... + a_{0} x_{0})\\, \\hbox{mod}(2) $}\n",
    "$$\n",
    "\n",
    "\n",
    "donde $a = a_{n-1}...a_1a_0$ es la representación binaria de $a$, e igualmente para $x = x_{n-1}...x_1x_0$."
   ]
  },
  {
   "cell_type": "markdown",
   "metadata": {},
   "source": [
    "<div class=\"alert alert-block alert-warning\">\n",
    "<b>Ejemplo</b>:  supongamos que $n=4$. Entonces, por ejemplo\n",
    "    \n",
    "\\begin{align}\n",
    "f_3(4) &= 3\\cdot 4 =  0001 \\cdot 0100 \\equiv (0*0 + 0*1 + 1*0 + 1* 0)\\,\\hbox{mod}(2) =  0 \\,\\hbox{mod}(2) = 0 \\\\\n",
    "f_7(7) &= 7\\cdot 7 = 0111 \\cdot 0111 \\equiv(0*0 + 1*1 + 1*1 + 1* 1)\\,\\hbox{mod}(2) =  3 \\,\\hbox{mod}(2) = 1 \\\\\n",
    "\\end{align}\n",
    "    \n",
    "</div>"
   ]
  },
  {
   "cell_type": "markdown",
   "metadata": {},
   "source": [
    "Vamos a definir $n$ y un valor de $a$ y dar su representación binaria con $n$ dígitos. Estos valores se pueden cambiar"
   ]
  },
  {
   "cell_type": "code",
   "execution_count": 195,
   "metadata": {},
   "outputs": [
    {
     "name": "stdout",
     "output_type": "stream",
     "text": [
      "a = 7\n",
      "a_bin = 0111\n"
     ]
    }
   ],
   "source": [
    "import random \n",
    "n=4\n",
    "\n",
    "#a = random.randint(0, 2**n - 1)\n",
    "a=7\n",
    "a_bin = format(a, '0' + str(n) + 'b')\n",
    "\n",
    "print('a =', a)\n",
    "print('a_bin =', a_bin)"
   ]
  },
  {
   "cell_type": "markdown",
   "metadata": {},
   "source": [
    "Ahora definimos la función $f_a(x)$ que podemos evaluar sobre cualquier argumento $x$. El valor de $a$ está oculto "
   ]
  },
  {
   "cell_type": "code",
   "execution_count": 196,
   "metadata": {},
   "outputs": [],
   "source": [
    "# Oráculo lineal clásico\n",
    "def f_a(x):\n",
    "    x_bin = format(x, '0' + str(n) + 'b')\n",
    "    print(x_bin)\n",
    "    return sum([(int(a_bin[i])*int(x_bin[i])) for i in range(n)])%2 "
   ]
  },
  {
   "cell_type": "code",
   "execution_count": 197,
   "metadata": {},
   "outputs": [
    {
     "name": "stdout",
     "output_type": "stream",
     "text": [
      "0111\n",
      "f_a(x) = 1\n"
     ]
    }
   ],
   "source": [
    "x = 7\n",
    "print('f_a(x) =', f_a(x))"
   ]
  },
  {
   "cell_type": "markdown",
   "metadata": {},
   "source": [
    "<div class=\"alert alert-block alert-info\">\n",
    "\n",
    "<u>Problema de Bernstein-Vazirani</u> *(versión  cuántica)*\n",
    "<br>       \n",
    "- <u>Promesa:</u> <b>disponemos</b> de una función $f_a$,  para un $a$ \n",
    "particular **desconocido**\n",
    "<br>\n",
    "<br>\n",
    "    \n",
    "    \n",
    "- <u>Problema:</u> queremos <b>adivinar</b> $a$ con el único recurso de evaluar $f_a(x)$ tantas veces como queramos sobre distintos valores de $x$. \n",
    "    \n",
    "    \n",
    "<br>\n",
    "    \n",
    "*Nota: $f_a$ es un *oráculo* al que siempre puedes preguntar todo menos cuál es su identidad*\n",
    "\n",
    "</div>"
   ]
  },
  {
   "cell_type": "markdown",
   "metadata": {},
   "source": [
    "<div class=\"alert alert-block alert-success\">\n",
    "\n",
    "<b>¡A jugar!</b>:  evalua la función \"f_a(x)\" sobre tantos $x\\in (0,2^n-1)$ como necesites para averiguar el valor oculto de $a$.\n",
    "</div>"
   ]
  },
  {
   "cell_type": "code",
   "execution_count": 198,
   "metadata": {},
   "outputs": [
    {
     "name": "stdout",
     "output_type": "stream",
     "text": [
      "0111\n",
      "f_a(7)= 1\n"
     ]
    }
   ],
   "source": [
    "x = random.randint(0, 2**n - 1)\n",
    "x = 7\n",
    "print( 'f_a(' + str(x) +  ')=',f_a(x))"
   ]
  },
  {
   "cell_type": "markdown",
   "metadata": {},
   "source": [
    "Cuando termines, compara tu resultado con el valor correcto de $a$"
   ]
  },
  {
   "cell_type": "code",
   "execution_count": 199,
   "metadata": {},
   "outputs": [
    {
     "name": "stdout",
     "output_type": "stream",
     "text": [
      "a = 7\n"
     ]
    }
   ],
   "source": [
    "print('a =',a)"
   ]
  },
  {
   "cell_type": "markdown",
   "metadata": {},
   "source": [
    "<div class=\"alert alert-block alert-warning\">\n",
    " El número mínimo de veces que necesitamos consultar $g(x)$ para adivinar $a$ se denomina <em>complejidad de oráculo</em>  ${\\cal C}$. En este problema, deberías haber llegado a las conclusión de que ${\\cal C} = n$, crece linealmente con el número de cúbits.\n",
    "</div>"
   ]
  },
  {
   "cell_type": "markdown",
   "metadata": {},
   "source": [
    "<div class=\"alert alert-block alert-info\">\n",
    "\n",
    "<u>Problema de Bernstein-Vazirani</u> *(versión  cuántica)*\n",
    "<br>\n",
    "<br>    \n",
    "\n",
    "Sea $\\ket{x}$ un estado de $n$ cúbits, y $\\ket{0}$ un cúbit adicional. \n",
    "<br> \n",
    "<br>    \n",
    "    \n",
    "- <i>Promesa:</i> disponemos de un **circuito** que implementa la acción de $f_a$ sobre cualquier estado $\\ket{x}\\ket{0}$ en la forma siguiente\n",
    "<br>\n",
    "<br>\n",
    "    \n",
    "$$\n",
    "U_a : \\ket{x} \\ket{0}  \\to \\ket{x} \\ket{f_a(x)}\n",
    "$$\n",
    "<br>\n",
    "    \n",
    "- <i>Problema:</i> queremos **adivinar** $a$ con el único recurso de ejecutar  el circuito $U_a$ y medir el estado resultante *tantas veces como queramos*. \n",
    "    \n",
    "    \n",
    "\n",
    "</div>"
   ]
  },
  {
   "cell_type": "markdown",
   "metadata": {},
   "source": [
    "Dado un $a$, la siguiente función genera un circuito que implementa $U_a$ "
   ]
  },
  {
   "cell_type": "code",
   "execution_count": 200,
   "metadata": {},
   "outputs": [],
   "source": [
    "import random\n",
    "\n",
    "def U_a(): \n",
    "    qc = QuantumCircuit(n+1)\n",
    "    for qubit in range(n):\n",
    "        if a_bin[qubit] == '1':\n",
    "            qc.cx(n-qubit,0)\n",
    "    return qc.to_gate(label=\"$U_a$\")"
   ]
  },
  {
   "cell_type": "markdown",
   "metadata": {},
   "source": [
    "Vamos a ver que funciona. Para ello tenemos que inicializar el vector $\\ket{x}$ y aplicarle $U_a: \\ket{x}\\ket{0} \\to \\ket{x}\\ket{f_a(x)}$"
   ]
  },
  {
   "cell_type": "code",
   "execution_count": 201,
   "metadata": {},
   "outputs": [
    {
     "ename": "NameError",
     "evalue": "name 'QuantumRegister' is not defined",
     "output_type": "error",
     "traceback": [
      "\u001b[0;31m---------------------------------------------------------------------------\u001b[0m",
      "\u001b[0;31mNameError\u001b[0m                                 Traceback (most recent call last)",
      "Cell \u001b[0;32mIn[201], line 6\u001b[0m\n\u001b[1;32m      3\u001b[0m x \u001b[38;5;241m=\u001b[39m \u001b[38;5;241m7\u001b[39m\n\u001b[1;32m      5\u001b[0m \u001b[38;5;66;03m# generamos el circuito \u001b[39;00m\n\u001b[0;32m----> 6\u001b[0m qrx \u001b[38;5;241m=\u001b[39m \u001b[43mQuantumRegister\u001b[49m(n,name\u001b[38;5;241m=\u001b[39m\u001b[38;5;124m'\u001b[39m\u001b[38;5;124m|x>\u001b[39m\u001b[38;5;124m'\u001b[39m)\n\u001b[1;32m      7\u001b[0m qra \u001b[38;5;241m=\u001b[39m QuantumRegister(\u001b[38;5;241m1\u001b[39m,name\u001b[38;5;241m=\u001b[39m\u001b[38;5;124m'\u001b[39m\u001b[38;5;124m|f(x)>\u001b[39m\u001b[38;5;124m'\u001b[39m)\n\u001b[1;32m      8\u001b[0m crx \u001b[38;5;241m=\u001b[39m ClassicalRegister(n,name\u001b[38;5;241m=\u001b[39m\u001b[38;5;124m'\u001b[39m\u001b[38;5;124mx\u001b[39m\u001b[38;5;124m'\u001b[39m)\n",
      "\u001b[0;31mNameError\u001b[0m: name 'QuantumRegister' is not defined"
     ]
    }
   ],
   "source": [
    "# fijamos un valor de x\n",
    "a = 7\n",
    "x = 7\n",
    "\n",
    "# generamos el circuito \n",
    "qrx = QuantumRegister(n,name='|x>')\n",
    "qra = QuantumRegister(1,name='|f(x)>')\n",
    "crx = ClassicalRegister(n,name='x')\n",
    "cra = ClassicalRegister(1,name='f(x)')\n",
    "\n",
    "qc = QuantumCircuit(qra,qrx,cra,crx)\n",
    "\n",
    "# inicializamos |x>|0> \n",
    "x_bin = format(x, '0' + str(n) + 'b')\n",
    "print('x_bin = ',x_bin)\n",
    "for i in range(n):\n",
    "    if x_bin[i] == '1':\n",
    "        qc.x(qrx[i])\n",
    "      \n",
    "# añadimos el oráculo $U_a$\n",
    "qc.append(U_a(), qra[:] + qrx[:])\n",
    "\n",
    "# medimos los qúbits\n",
    "qc.measure(qrx,crx)  \n",
    "qc.measure(qra, cra) \n",
    "display(qc.draw('mpl'))\n",
    "\n",
    "# Corremos el circuito 1 vez para ver que efectivamente U_a implementa la función f_a\n",
    "medidas = backend.run(transpile(qc,backend), shots = 1).result().get_counts()\n",
    "print(medidas)\n",
    "key = list(medidas.keys())[0]\n",
    "print('|x>|f_a(x)> = |' + key[:n] + '>|' + key[n+1] + '>')"
   ]
  },
  {
   "cell_type": "markdown",
   "metadata": {},
   "source": [
    "### Cómo adivinar $a$ con <u>una sola consulta</u> al oráculo cuántico"
   ]
  },
  {
   "cell_type": "markdown",
   "metadata": {},
   "source": [
    "El circuito de Bernstein-Vazirani tiene las siguientes partes\n",
    "\n",
    "1. <b>Despliegue</b> de la base computacional, aplicando $H^n\\ket{0}_n = \\ket{0} + \\ket{1} + \\ket{2} ... +   \\ket{2^n-1}$\n",
    "<br>\n",
    "\n",
    "2. Evaluación <b>simultánea</b> del oráculo $U_a$ sobre <b> todos los elementos</b> de la base computacional sobre el estado $\\ket{-} = Z H \\ket{0}$\n",
    "<br>\n",
    "\n",
    "3. <b>Interferencia</b> destructiva de las amplitudes, que se consigue aplicando otra vez $H^n$. Este es el mismo efecto que el de la moneda cuántica, en el que todos los caminos interfieren destructivamente excepto el que conduce al vector $\\ket{a}$. \n",
    "<br>\n",
    "\n",
    "4. <b>Medida</b> del resultado. $\\ket{a} \\to a$. "
   ]
  },
  {
   "cell_type": "code",
   "execution_count": null,
   "metadata": {},
   "outputs": [],
   "source": [
    "#generamos el circuito\n",
    "qrx = QuantumRegister(n,name='|+>')\n",
    "qra = QuantumRegister(1,name='|->')\n",
    "crx = ClassicalRegister(n,name='a')\n",
    "qc = QuantumCircuit(qra,qrx,crx)\n",
    "\n",
    "#inicializamos la ancilla a |-> = ZH|0>\n",
    "qc.h(qra)\n",
    "qc.z(qra)\n",
    "#inicializamos el registro de cálculo a la superposición uniforme |0...0> + |0....1> + ....|1...1>\n",
    "qc.h(qrx)\n",
    "\n",
    "qc.barrier()\n",
    "\n",
    "# invocamos el oráculo $U_a$ sin saber cuál es el valor de $a$\n",
    "qc.append(U_a(), qra[:] + qrx[:])\n",
    "\n",
    "#producimos la interferencia de todas las posibles historias\n",
    "qc.h(qrx)\n",
    "\n",
    "#añadimos aparatos de medida\n",
    "qc.measure(qrx,crx)\n",
    "     \n",
    "qc.draw(output='mpl')"
   ]
  },
  {
   "cell_type": "code",
   "execution_count": null,
   "metadata": {},
   "outputs": [],
   "source": [
    "medidas = backend.run(transpile(qc,backend), shots = 1).result().get_counts()\n",
    "print(medidas)\n",
    "plot_histogram(medidas)"
   ]
  },
  {
   "cell_type": "code",
   "execution_count": null,
   "metadata": {},
   "outputs": [],
   "source": [
    "print('el valor de a buscado es, a = ', int(list(medidas.keys())[0],2))"
   ]
  }
 ],
 "metadata": {
  "kernelspec": {
   "display_name": "qibo_qiskit_pennylane",
   "language": "python",
   "name": "python3"
  },
  "language_info": {
   "codemirror_mode": {
    "name": "ipython",
    "version": 3
   },
   "file_extension": ".py",
   "mimetype": "text/x-python",
   "name": "python",
   "nbconvert_exporter": "python",
   "pygments_lexer": "ipython3",
   "version": "3.11.7"
  },
  "nbTranslate": {
   "displayLangs": [
    "*"
   ],
   "hotkey": "alt-t",
   "langInMainMenu": true,
   "sourceLang": "en",
   "targetLang": "fr",
   "useGoogleTranslate": true
  },
  "toc": {
   "base_numbering": 1,
   "nav_menu": {},
   "number_sections": true,
   "sideBar": true,
   "skip_h1_title": false,
   "title_cell": "Table of Contents",
   "title_sidebar": "Contents",
   "toc_cell": false,
   "toc_position": {},
   "toc_section_display": true,
   "toc_window_display": false
  },
  "varInspector": {
   "cols": {
    "lenName": 16,
    "lenType": 16,
    "lenVar": 40
   },
   "kernels_config": {
    "python": {
     "delete_cmd_postfix": "",
     "delete_cmd_prefix": "del ",
     "library": "var_list.py",
     "varRefreshCmd": "print(var_dic_list())"
    },
    "r": {
     "delete_cmd_postfix": ") ",
     "delete_cmd_prefix": "rm(",
     "library": "var_list.r",
     "varRefreshCmd": "cat(var_dic_list()) "
    }
   },
   "types_to_exclude": [
    "module",
    "function",
    "builtin_function_or_method",
    "instance",
    "_Feature"
   ],
   "window_display": false
  }
 },
 "nbformat": 4,
 "nbformat_minor": 2
}
